{
 "cells": [
  {
   "cell_type": "markdown",
   "id": "38e0e0ea-6df7-4807-8376-7dfe05f9d24f",
   "metadata": {
    "tags": []
   },
   "source": [
    "# Mandelbrot Set\n",
    "   \n",
    "## Sample Purpose\n",
    "\n",
    "This is a port of the [ISPC Mandelbrot](https://github.com/ispc/ispc/tree/master/examples/mandelbrot) sample.\n",
    "It uses an OpenCL kernel to compute a [Mandelbrot set](https://en.wikipedia.org/wiki/Mandelbrot_set) image, which is then written to a BMP file.\n",
    "Each OpenCL work item computes one element of the set.\n",
    "\n",
    "This assuredly is not the fastest Mandelbrot kernel on any OpenCL implementation, but it should perform reasonably well - much better than an equivalent serial implementation!\n",
    "To start, "
   ]
  },
  {
   "cell_type": "markdown",
   "id": "63c38e00-e1a1-46dd-b321-7ecef4603d37",
   "metadata": {
    "tags": []
   },
   "source": [
    "## Sample\n",
    "\n",
    "To start the sample, we will define the bounds of the image we want to generate and we will write our Mandelbrot kernel."
   ]
  },
  {
   "cell_type": "code",
   "execution_count": null,
   "id": "8c0f5462-9f22-4d8d-a899-18e746884daa",
   "metadata": {},
   "outputs": [],
   "source": [
    "from PIL import Image\n",
    "\n",
    "import numpy as np\n",
    "import matplotlib.pyplot as plt\n",
    "import pyopencl as cl\n",
    "import argparse\n",
    "import PIL\n",
    "\n",
    "width = 768\n",
    "height = 512\n",
    "\n",
    "maxIterations = 256\n",
    "\n",
    "kernelString = \"\"\"\n",
    "static inline int mandel(float c_re, float c_im, int count) {\n",
    "    float z_re = c_re, z_im = c_im;\n",
    "    int i;\n",
    "    for (i = 0; i < count; ++i) {\n",
    "        if (z_re * z_re + z_im * z_im > 4.)\n",
    "            break;\n",
    "\n",
    "        float new_re = z_re*z_re - z_im*z_im;\n",
    "        float new_im = 2.f * z_re * z_im;\n",
    "\n",
    "        z_re = c_re + new_re;\n",
    "        z_im = c_im + new_im;\n",
    "    }\n",
    "\n",
    "    return i;\n",
    "}\n",
    "kernel void Mandelbrot(\n",
    "    float x0, float y0,\n",
    "    float x1, float y1,\n",
    "    int width, int height,\n",
    "    int maxIterations,\n",
    "    global int* output)\n",
    "{\n",
    "    float dx = (x1 - x0) / width;\n",
    "    float dy = (y1 - y0) / height;\n",
    "\n",
    "    float x = x0 + get_global_id(0) * dx;\n",
    "    float y = y0 + get_global_id(1) * dy;\n",
    "\n",
    "    int index = get_global_id(1) * width + get_global_id(0);\n",
    "    output[index] = mandel(x, y, maxIterations);\n",
    "}\n",
    "\"\"\""
   ]
  },
  {
   "cell_type": "markdown",
   "id": "a5570031-7517-46be-ac4f-f11da9087875",
   "metadata": {},
   "source": [
    "By default, this sample will run on the first platform and device it finds.\n",
    "\n",
    "To choose a different OpenCL platform, simply change the platform index or device index to a different value."
   ]
  },
  {
   "cell_type": "code",
   "execution_count": null,
   "id": "227d551e-a088-4e82-90c2-55e368a3ae72",
   "metadata": {},
   "outputs": [],
   "source": [
    "if __name__ == \"__main__\":\n",
    "    platformIndex = 0\n",
    "    deviceIndex = 0\n",
    "\n",
    "    platforms = cl.get_platforms()\n",
    "    print('Running on platform: ' + platforms[platformIndex].get_info(cl.platform_info.NAME))\n",
    "\n",
    "    devices = platforms[platformIndex].get_devices()\n",
    "    print('Running on device: ' + devices[deviceIndex].get_info(cl.device_info.NAME))"
   ]
  },
  {
   "cell_type": "markdown",
   "id": "40c13aea-05f5-4d9e-b894-7fc68d292ec9",
   "metadata": {},
   "source": [
    "We need an OpenCL context to work with and an OpenCL command queue to submit OpenCL commands to the OpenCL device, so create them."
   ]
  },
  {
   "cell_type": "code",
   "execution_count": null,
   "id": "88b9ad99-871f-4cc5-8ea8-703b674f2658",
   "metadata": {},
   "outputs": [],
   "source": [
    "    context = cl.Context([devices[deviceIndex]])\n",
    "    commandQueue = cl.CommandQueue(context, devices[deviceIndex])"
   ]
  },
  {
   "cell_type": "markdown",
   "id": "2144c0f8-dc69-4f88-8784-83b0173a1ff6",
   "metadata": {},
   "source": [
    "Once we have an OpenCL context we can create an OpenCL program with the kernel string we created previously, build it, and get our Mandelbrot kernel."
   ]
  },
  {
   "cell_type": "code",
   "execution_count": null,
   "id": "7fb2e089-5902-4265-b604-d093edf05cca",
   "metadata": {},
   "outputs": [],
   "source": [
    "    program = cl.Program(context, kernelString)\n",
    "    program.build()\n",
    "    kernel = program.Mandelbrot"
   ]
  },
  {
   "cell_type": "markdown",
   "id": "275055a8-aa23-4132-a599-326070e495fe",
   "metadata": {},
   "source": [
    "We can also create a buffer to store our Mandelbrot image."
   ]
  },
  {
   "cell_type": "code",
   "execution_count": null,
   "id": "499f1c24-1358-475e-910e-89bce37d521e",
   "metadata": {},
   "outputs": [],
   "source": [
    "    deviceMemDst = cl.Buffer(context, cl.mem_flags.ALLOC_HOST_PTR, \n",
    "                             width * height * np.uint32().itemsize)"
   ]
  },
  {
   "cell_type": "markdown",
   "id": "4b5db0b6-81a9-4c40-9e25-848fc2ea395e",
   "metadata": {},
   "source": [
    "We are now ready to execute our Mandelbrot kernel!\n",
    "\n",
    "The ND-range for the Mandelbrot kernel will be our image "
   ]
  },
  {
   "cell_type": "code",
   "execution_count": null,
   "id": "a487c65d-4966-4846-903c-3752df6c73e3",
   "metadata": {},
   "outputs": [],
   "source": [
    "    # execution\n",
    "    kernel(commandQueue, [width, height], None, \n",
    "           np.float32(-2.0), np.float32(-1.0), np.float32(1.0), np.float32(1.0),\n",
    "           np.int32(width), np.int32(height), np.int32(maxIterations), deviceMemDst)"
   ]
  },
  {
   "cell_type": "code",
   "execution_count": null,
   "id": "aeed3d87-3821-4653-a47d-9371df02c6cd",
   "metadata": {},
   "outputs": [],
   "source": [
    "    # save bitmap\n",
    "    mapped_dst, event = cl.enqueue_map_buffer(commandQueue, deviceMemDst,\n",
    "                                              cl.map_flags.READ, \n",
    "                                              0, width * height, np.uint32)\n",
    "    with mapped_dst.base:\n",
    "        colors = np.fromiter((240 if x & 1 else 20 for x in mapped_dst), np.uint8)\n",
    "        image = Image.fromarray(colors.reshape((height, width)))"
   ]
  },
  {
   "cell_type": "code",
   "execution_count": null,
   "id": "82248fc8-efdd-4431-9c4c-0dbc5e32acf6",
   "metadata": {},
   "outputs": [],
   "source": [
    "        plt.imshow(image, cmap=\"gray\")"
   ]
  },
  {
   "cell_type": "code",
   "execution_count": null,
   "id": "97d75ba3-e59e-4c2a-9936-e335f3b3522e",
   "metadata": {},
   "outputs": [],
   "source": [
    "        filename = 'mandelbrot.bmp'\n",
    "        image.save(filename)\n",
    "        print('Wrote image file {}'.format(filename))"
   ]
  }
 ],
 "metadata": {
  "kernelspec": {
   "display_name": "Python 3",
   "language": "python",
   "name": "python3"
  },
  "language_info": {
   "codemirror_mode": {
    "name": "ipython",
    "version": 3
   },
   "file_extension": ".py",
   "mimetype": "text/x-python",
   "name": "python",
   "nbconvert_exporter": "python",
   "pygments_lexer": "ipython3",
   "version": "3.8.10"
  }
 },
 "nbformat": 4,
 "nbformat_minor": 5
}
