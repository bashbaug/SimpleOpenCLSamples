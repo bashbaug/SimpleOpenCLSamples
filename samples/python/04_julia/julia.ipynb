{
 "cells": [
  {
   "cell_type": "markdown",
   "id": "fe0581a6-da44-41d1-83f7-d593ff325751",
   "metadata": {},
   "source": [
    "# Julia Set\n",
    "\n",
    "### Copyright Information"
   ]
  },
  {
   "cell_type": "code",
   "execution_count": null,
   "id": "8dda25b1-f83f-438d-8629-2874b7d5927b",
   "metadata": {},
   "outputs": [],
   "source": [
    "# Copyright (c) 2024-2025 Ben Ashbaugh\n",
    "#\n",
    "# SPDX-License-Identifier: MIT"
   ]
  },
  {
   "cell_type": "markdown",
   "id": "7c9179e9-acc9-4b18-bd72-3be7192c1075",
   "metadata": {},
   "source": [
    "## Sample Purpose\n",
    "\n",
    "This is another sample that generates a fractal image.\n",
    "It uses an OpenCL kernel to compute a [Julia set](https://en.wikipedia.org/wiki/Julia_set) image, which is displayed in this notebook and then written to a BMP file.\n",
    "\n",
    "This sample also shows how to time the execution of an OpenCL kernel, and how to pass a different local work group size to change the way the kernel is executed.\n",
    "\n",
    "## Sample\n",
    "\n",
    "To start the sample, we will import pyopencl and a few other packages that this sample uses."
   ]
  },
  {
   "cell_type": "code",
   "execution_count": null,
   "id": "f0fcef28-350a-4d24-a9ce-5dcac245055c",
   "metadata": {},
   "outputs": [],
   "source": [
    "from PIL import Image\n",
    "\n",
    "import numpy as np\n",
    "import matplotlib.pyplot as plt\n",
    "import pyopencl as cl\n",
    "import PIL\n",
    "import time"
   ]
  },
  {
   "cell_type": "markdown",
   "id": "dcdbe54d-cefc-4e7d-a571-ed9f8bbf86cd",
   "metadata": {},
   "source": [
    "We will then define the size of the image we want to generate and we will write our Julia kernel.\n",
    "Each OpenCL work-item computes one element of the set, or equivalently, one pixel in the output image."
   ]
  },
  {
   "cell_type": "code",
   "execution_count": null,
   "id": "6ae9eed0-301e-49d9-af4b-cd2ab7a9c420",
   "metadata": {},
   "outputs": [],
   "source": [
    "width = 512\n",
    "height = 512\n",
    "\n",
    "kernelString = \"\"\"\n",
    "kernel void Julia( global uchar4* dst, float cr, float ci )\n",
    "{\n",
    "    const float cMinX = -1.5f;\n",
    "    const float cMaxX =  1.5f;\n",
    "    const float cMinY = -1.5f;\n",
    "    const float cMaxY =  1.5f;\n",
    "\n",
    "    const int cWidth = get_global_size(0);\n",
    "    const int cIterations = 16;\n",
    "\n",
    "    int x = (int)get_global_id(0);\n",
    "    int y = (int)get_global_id(1);\n",
    "\n",
    "    float a = x * ( cMaxX - cMinX ) / cWidth + cMinX;\n",
    "    float b = y * ( cMaxY - cMinY ) / cWidth + cMinY;\n",
    "\n",
    "    float result = 0.0f;\n",
    "    const float thresholdSquared = cIterations * cIterations / 64.0f;\n",
    "\n",
    "    for( int i = 0; i < cIterations; i++ ) {\n",
    "        float aa = a * a;\n",
    "        float bb = b * b;\n",
    "\n",
    "        float magnitudeSquared = aa + bb;\n",
    "        if( magnitudeSquared >= thresholdSquared ) {\n",
    "            break;\n",
    "        }\n",
    "\n",
    "        result += 1.0f / cIterations;\n",
    "        b = 2 * a * b + ci;\n",
    "        a = aa - bb + cr;\n",
    "    }\n",
    "\n",
    "    result = max( result, 0.0f );\n",
    "    result = min( result, 1.0f );\n",
    "\n",
    "    // RGBA\n",
    "    float4 color = (float4)( result, sqrt(result), 1.0f, 1.0f );\n",
    "\n",
    "    dst[ y * cWidth + x ] = convert_uchar4(color * 255.0f);\n",
    "}\n",
    "\"\"\""
   ]
  },
  {
   "cell_type": "markdown",
   "id": "82161ee0-8b1c-490c-b456-cec80251bf0c",
   "metadata": {},
   "source": [
    "By default, this sample will run on the first platform and device it finds.\n",
    "\n",
    "To choose a different OpenCL platform, simply change the platform index or device index to a different value."
   ]
  },
  {
   "cell_type": "code",
   "execution_count": null,
   "id": "6f20b587-49a8-4c5e-a202-126883c6ad90",
   "metadata": {},
   "outputs": [],
   "source": [
    "if __name__ == \"__main__\":\n",
    "    platformIndex = 0\n",
    "    deviceIndex = 0\n",
    "    \n",
    "    platforms = cl.get_platforms()\n",
    "    print('Running on platform: ' + platforms[platformIndex].get_info(cl.platform_info.NAME))\n",
    "\n",
    "    devices = platforms[platformIndex].get_devices()\n",
    "    print('Running on device: ' + devices[deviceIndex].get_info(cl.device_info.NAME))"
   ]
  },
  {
   "cell_type": "markdown",
   "id": "aaa1fb1d-c8d3-42dd-a338-c64264edc0c6",
   "metadata": {},
   "source": [
    "As before, we need an OpenCL context to work with and an OpenCL command queue to submit OpenCL commands to the OpenCL device, so create them."
   ]
  },
  {
   "cell_type": "code",
   "execution_count": null,
   "id": "b479e2c5-be30-466e-b767-5db92b4b65c3",
   "metadata": {},
   "outputs": [],
   "source": [
    "    context = cl.Context([devices[deviceIndex]])\n",
    "    commandQueue = cl.CommandQueue(context, devices[deviceIndex])"
   ]
  },
  {
   "cell_type": "markdown",
   "id": "40cfbada-35f0-4051-9ab6-a1f540c351f1",
   "metadata": {},
   "source": [
    "Once we have an OpenCL context we can create an OpenCL program with the kernel string we created previously, build it, and get our Julia set kernel."
   ]
  },
  {
   "cell_type": "code",
   "execution_count": null,
   "id": "2c5876e7-5fa6-4e80-9b69-fa3fdb68643b",
   "metadata": {},
   "outputs": [],
   "source": [
    "    program = cl.Program(context, kernelString)\n",
    "    program.build()\n",
    "    kernel = program.Julia"
   ]
  },
  {
   "cell_type": "markdown",
   "id": "66363dd7-f7e7-4bfb-9e66-01540b40e9b5",
   "metadata": {},
   "source": [
    "We can also create a buffer to store our Julia set image."
   ]
  },
  {
   "cell_type": "code",
   "execution_count": null,
   "id": "7c2367f3-b3f8-4f32-acfe-6def7f806f49",
   "metadata": {},
   "outputs": [],
   "source": [
    "    deviceMemDst = cl.Buffer(context, cl.mem_flags.ALLOC_HOST_PTR, \n",
    "                             width * height * 4 * np.uint8().itemsize)"
   ]
  },
  {
   "cell_type": "markdown",
   "id": "87c17780-8db0-467f-a24c-fbfe187ca692",
   "metadata": {},
   "source": [
    "We are now ready to execute our Julia set kernel!\n",
    "\n",
    "Unlike previous samples, this sample can either use a default `NULL` local work group size, or a specific local work group size."
   ]
  },
  {
   "cell_type": "code",
   "execution_count": null,
   "id": "c4585a5f-a972-4f81-a77c-c69d32834cae",
   "metadata": {},
   "outputs": [],
   "source": [
    "    iterations = 16\n",
    "    lws = None\n",
    "\n",
    "    print('Executing the kernel {} times'.format(iterations))\n",
    "    print('Global Work Size = {}'.format([width, height]))\n",
    "    if lws:\n",
    "        print('Local Work Size = {}'.format(lws))\n",
    "    else:\n",
    "        print('Local Work Size = NULL')"
   ]
  },
  {
   "cell_type": "markdown",
   "id": "db2cf35d-8da6-412d-ae60-a4c05eb9c2ee",
   "metadata": {},
   "source": [
    "For more stable timing we will execute the kernel multiple times.\n",
    "By default, we will execute the kernel 16 times.\n",
    "This may not be enough for some very fast devices.\n",
    "If the timing is still unstable, please try increasing the number of iterations, or increasing the image size.\n",
    "\n",
    "Note that we will call `clFinish` to ensure the OpenCL command queue is empty before we start the timer, and we will also call `clFinish` to make sure all commands have finished execution before ending the timer.\n",
    "If we do not call `clFinish` in both places then we may measure the cost of commands that were still in the queue before the commands we want to time, or some commands may still be executing."
   ]
  },
  {
   "cell_type": "code",
   "execution_count": null,
   "id": "144cb5a8-ccc3-4d6c-9097-12319a20e50a",
   "metadata": {},
   "outputs": [],
   "source": [
    "    # Ensure the queue is empty and no processing is happening\n",
    "    # on the device before starting the timer.\n",
    "    commandQueue.finish()\n",
    "\n",
    "    cr = -0.123\n",
    "    ci = 0.745\n",
    "    \n",
    "    start = time.perf_counter()\n",
    "    for i in range(iterations):\n",
    "        kernel(commandQueue, [width, height], lws,\n",
    "               deviceMemDst, np.float32(cr), np.float32(ci))\n",
    "\n",
    "    # Ensure all processing is complete before stopping the timer.\n",
    "    commandQueue.finish()\n",
    "\n",
    "    end = time.perf_counter()\n",
    "    print('Finished in {} seconds'.format(end - start))"
   ]
  },
  {
   "cell_type": "markdown",
   "id": "c65b461d-d95b-41af-baef-4e6bfc9d7a57",
   "metadata": {},
   "source": [
    "All that's left to do now is to get the results of our Julia set kernel.\n",
    "We can do this by mapping our output buffer, as usual."
   ]
  },
  {
   "cell_type": "code",
   "execution_count": null,
   "id": "7b2039e6-6404-4014-aea2-b4e85eaf54cc",
   "metadata": {},
   "outputs": [],
   "source": [
    "    mapped_dst, event = cl.enqueue_map_buffer(commandQueue, deviceMemDst,\n",
    "                                              cl.map_flags.READ, \n",
    "                                              0, width * height, np.uint32)\n",
    "    with mapped_dst.base:\n",
    "        (r, g, b, a) = Image.fromarray(mapped_dst.reshape((width, height)), 'RGBA').split()\n",
    "        image = Image.merge('RGB', (r, g, b))"
   ]
  },
  {
   "cell_type": "markdown",
   "id": "9239594c-1049-4e83-b1ff-ba82cb058893",
   "metadata": {},
   "source": [
    "Now we can display the results."
   ]
  },
  {
   "cell_type": "code",
   "execution_count": null,
   "id": "7172790b-12f7-47ee-a7c6-ae0cff0dab38",
   "metadata": {},
   "outputs": [],
   "source": [
    "        plt.imshow(image)"
   ]
  },
  {
   "cell_type": "markdown",
   "id": "1bccf706-eee5-4682-9856-1705d115e2fa",
   "metadata": {},
   "source": [
    "We can also save a bitmap for future offline viewing."
   ]
  },
  {
   "cell_type": "code",
   "execution_count": null,
   "id": "121bbef3-5fb2-42e9-b60d-c2a75e440fdc",
   "metadata": {},
   "outputs": [],
   "source": [
    "        filename = 'julia.bmp'\n",
    "        image.save(filename)\n",
    "        print('Wrote image file {}'.format(filename))"
   ]
  },
  {
   "cell_type": "markdown",
   "id": "0d33c7a7-53fc-4370-bacb-1399cf775991",
   "metadata": {},
   "source": [
    "Unlike prior samples, this sample can optionally specify a local work size grouping.  You can specify a local work size grouping by changing this line from:\n",
    "\n",
    "```python\n",
    "lws = None\n",
    "```\n",
    "\n",
    "to a specific local work size, for example:\n",
    "\n",
    "```python\n",
    "lws = [8, 8]\n",
    "```\n",
    "\n",
    "The local work size grouping is one way to tune an application for an architecture.\n",
    "Can you find a local work size grouping that performs better than the implementation-determined grouping?\n",
    "Is there a local work size grouping that performs very poorly on your implementation?\n"
   ]
  }
 ],
 "metadata": {
  "kernelspec": {
   "display_name": "Python 3 (ipykernel)",
   "language": "python",
   "name": "python3"
  },
  "language_info": {
   "codemirror_mode": {
    "name": "ipython",
    "version": 3
   },
   "file_extension": ".py",
   "mimetype": "text/x-python",
   "name": "python",
   "nbconvert_exporter": "python",
   "pygments_lexer": "ipython3",
   "version": "3.10.12"
  }
 },
 "nbformat": 4,
 "nbformat_minor": 5
}
